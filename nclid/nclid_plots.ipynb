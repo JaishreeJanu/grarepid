{
 "cells": [
  {
   "cell_type": "code",
   "execution_count": 23,
   "id": "f9d18e8a-c9d0-4e10-824e-4070f1f2810e",
   "metadata": {},
   "outputs": [],
   "source": [
    "# !pip install plotly\n",
    "# !pip install plotly-express\n",
    "# !pip3 install pandas\n",
    "# !pip3 install seaborn"
   ]
  },
  {
   "cell_type": "code",
   "execution_count": 36,
   "id": "initial_id",
   "metadata": {
    "ExecuteTime": {
     "end_time": "2024-02-28T21:38:05.906997Z",
     "start_time": "2024-02-28T21:38:05.846211Z"
    }
   },
   "outputs": [],
   "source": [
    "import json\n",
    "import seaborn as sns\n",
    "import pandas as pd\n",
    "import matplotlib.pyplot as plt\n",
    "from statistics import mean, stdev"
   ]
  },
  {
   "cell_type": "code",
   "execution_count": 26,
   "id": "5b416a2b-3fdb-4f35-a553-928f9eac6008",
   "metadata": {},
   "outputs": [],
   "source": [
    "datasets = [\n",
    "    \"karate_club_graph\",\n",
    "    \"les_miserables_graph\",\n",
    "    \"florentine_families_graph\",\n",
    "    \"cora_ml\",\n",
    "    \"citeseer\",\n",
    "    \"amazon_electronics_photo\",\n",
    "    \"amazon_electronics_computers\",\n",
    "    \"pubmed\",\n",
    "    \"cora\",\n",
    "    \"dblp\"\n",
    "]"
   ]
  },
  {
   "cell_type": "code",
   "execution_count": 52,
   "id": "b93139728c152f24",
   "metadata": {
    "collapsed": false,
    "jupyter": {
     "outputs_hidden": false
    }
   },
   "outputs": [],
   "source": [
    "for dataset in datasets:\n",
    "    with open('nclid_outputs/'+dataset+'all_nclids.json') as f:\n",
    "        lid_values = (json.load(f)).values()\n",
    "        sns.set(style=\"darkgrid\")\n",
    "        sns.histplot(data=lid_values, kde=True)\n",
    "        \n",
    "        plt.title(f\"Distribution of LIDs estimated by NCLID: {dataset} \\n  MEAN: {'{:.2f}'.format(mean(lid_values))}, STD: {'{:.2f}'.format(stdev(lid_values))}, MIN: {'{:.2f}'.format(min(lid_values))}, MAX: {'{:.2f}'.format(max(lid_values))}\")\n",
    "        plt.xlabel('LID')\n",
    "        plt.ylabel('Frequency')\n",
    "        \n",
    "        plt.savefig(dataset+'-hist.pdf')\n",
    "\n",
    "        plt.close()"
   ]
  },
  {
   "cell_type": "code",
   "execution_count": null,
   "id": "e6007cdc-9fba-48ae-bdd7-32e7d1f52af8",
   "metadata": {},
   "outputs": [],
   "source": []
  }
 ],
 "metadata": {
  "kernelspec": {
   "display_name": "lidexps",
   "language": "python",
   "name": "lidexps"
  },
  "language_info": {
   "codemirror_mode": {
    "name": "ipython",
    "version": 3
   },
   "file_extension": ".py",
   "mimetype": "text/x-python",
   "name": "python",
   "nbconvert_exporter": "python",
   "pygments_lexer": "ipython3",
   "version": "3.8.10"
  }
 },
 "nbformat": 4,
 "nbformat_minor": 5
}
